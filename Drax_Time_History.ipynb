{
 "cells": [
  {
   "cell_type": "code",
   "execution_count": 6,
   "source": [
    "import pandas as pd\r\n",
    "from ipywidgets import interactive\r\n",
    "import ipywidgets as widgets\r\n",
    "import matplotlib.pyplot as plt\r\n",
    "from matplotlib.dates import DateFormatter, HourLocator\r\n",
    "from tqdm import tqdm\r\n",
    "\r\n",
    "d = \"Data//\"\r\n",
    "flis = [\"LT1\", \"LT2\", \"LT3\", \"LT4\", \"LT5\", \"LT6\", \"LT7\", \"LT8\"]\r\n",
    "sheet = [\"Leq\",\"L90(LN4)\"]\r\n",
    "llist = ['Load', 'Unit 1', 'Unit 2', 'Unit 3', 'Unit 4']\r\n",
    "load = pd.read_excel(d+\"Load.xlsx\")\r\n",
    "load['Time'] = pd.to_datetime(load['Time'].astype(str))\r\n",
    "weather = pd.read_excel(d+\"Weather.xlsx\")\r\n",
    "weather['Time'] = pd.to_datetime(weather['Time'].astype(str))\r\n",
    "wdir = [\"N\",\"NNE\",\"NE\",\"ENE\",\"E\",\"ESE\",\"SE\",\"SSE\",\"S\",\"SSW\",\"SW\",\"WSW\",\"W\",\"WNW\",\"NW\",\"NNW\",\"---\"]\r\n",
    "lt = [[[] for i in range(2)] for j in range(8)]\r\n",
    "dca, dcb = '07:00', '04:00'\r\n",
    "lcrit = 1\r\n",
    "\r\n",
    "for i, j in enumerate(flis):\r\n",
    "    for k,l in enumerate(sheet):\r\n",
    "        lt[i][k] = pd.read_excel(d+flis[i]+\".xlsx\", sheet_name=l)\r\n",
    "        lt[i][k]['Start Time'] = pd.to_datetime(lt[i][k]['Start Time'].astype(str))\r\n",
    "        lt[i][k] = pd.merge_asof(lt[i][k],load,left_on=\"Start Time\", right_on=\"Time\")\r\n",
    "        lt[i][k] = lt[i][k].drop(labels=['Time'],axis=1)\r\n",
    "        lt[i][k] = pd.merge_asof(lt[i][k],weather,left_on=\"Start Time\", right_on=\"Time\")\r\n",
    "        lt[i][k] = lt[i][k].drop(labels=['Time'],axis=1)\r\n",
    "        lt[i][k] = lt[i][k].set_index('Start Time')\r\n",
    "        lt[i][k] = lt[i][k].tail(lt[i][k].shape[0] - 24) # removing first 6 hours from tail\r\n",
    "        lt[i][k] = lt[i][k].head(lt[i][k].shape[0] - 24) # removing first 6 hours from head\r\n",
    "\r\n",
    "%matplotlib widget\r\n",
    "fig, ax1 = plt.subplots(1, 1, figsize=(8,4))\r\n",
    "def plotline(n, lw, d, c, l, w):\r\n",
    "    n = int(n-1)\r\n",
    "    ax1.clear()\r\n",
    "    if lw == 'Leq':\r\n",
    "        lwv = 0\r\n",
    "        ax1.set_ylabel('L$_{eq}$ dBA')\r\n",
    "    else:\r\n",
    "        lwv = 1\r\n",
    "        ax1.set_ylabel('L$_{90}$ dBA')\r\n",
    "    if d == 'Night':\r\n",
    "        st, et  = '23:00', '07:00'\r\n",
    "    else:\r\n",
    "        st, et = '07:00', '23:00'\r\n",
    "    ltall = lt[n][lwv].between_time(st, et) #filtering results for day and night\r\n",
    "    ltall = ltall[ltall[\"Rain\"]<0.2]\r\n",
    "    ltall = ltall[ltall[\"Speed\"]<=5]\r\n",
    "    ltall = ltall[ltall[\"Dir\"].isin(w)]\r\n",
    "    ltdcall = ltall.between_time(dca, dcb) #filtering for dawn chorus\r\n",
    "    lton, ltoff = ltall[ltall[l]>=lcrit], ltall[ltall[l]<lcrit] #filtering results with and without drax power\r\n",
    "    ltdcon,ltdcoff = ltdcall[ltdcall[l]>=lcrit],ltdcall[ltdcall[l]<lcrit] #filtering dawn chorus results with and without drax power\r\n",
    "    if c:\r\n",
    "        ax1.scatter(ltdcoff.index,ltdcoff['Main'],c='black')\r\n",
    "        ax1.scatter(ltdcon.index,ltdcon['Main'],c='red')\r\n",
    "    else:\r\n",
    "        ax1.scatter(ltoff.index,ltoff['Main'],c='black')\r\n",
    "        ax1.scatter(lton.index,lton['Main'],c='red')\r\n",
    "    myFmt = DateFormatter('%d.%m | %H:%M')\r\n",
    "    hours = HourLocator(interval = 6)\r\n",
    "    ax1.xaxis.set_major_locator(hours)\r\n",
    "    ax1.xaxis.set_major_formatter(myFmt)\r\n",
    "    fig.autofmt_xdate()\r\n",
    "    ax1.legend([l +' <'+str(lcrit), l +' >='+str(lcrit)])\r\n",
    "    fig.show()\r\n",
    "box_layout = widgets.Layout(display='inline-flex',flex_flow='column',align_items='flex-start')\r\n",
    "ss = widgets.Select(options=llist,description='Load value: ',disabled=False)\r\n",
    "aw = widgets.Select(options=list(range(1,9)),description='LT: ',disabled=False)\r\n",
    "lw = widgets.ToggleButtons(options=['Leq','L90'],description='Stat. level: ',disabled=False, layout=dict(width='200px'))\r\n",
    "bw = widgets.ToggleButtons(options=['Day','Night'],description='Period: ',disabled=False, layout=dict(width='200px'))\r\n",
    "cw = widgets.Checkbox(value=False,description='Filter dawn Chorus',disabled=False)\r\n",
    "wd = widgets.SelectMultiple(options=wdir,value=[wdir[0]],description='wind dir', disabled=False)\r\n",
    "ui = widgets.VBox([widgets.HBox([lw, bw, cw]),widgets.HBox([aw, ss, wd])],layout=box_layout)\r\n",
    "out = widgets.interactive_output(plotline, {'n': aw, 'lw': lw, 'd': bw, 'c': cw, 'l':ss,'w':wd})\r\n",
    "display(ui,out)"
   ],
   "outputs": [
    {
     "output_type": "display_data",
     "data": {
      "text/plain": [
       "Canvas(toolbar=Toolbar(toolitems=[('Home', 'Reset original view', 'home', 'home'), ('Back', 'Back to previous …"
      ],
      "application/vnd.jupyter.widget-view+json": {
       "version_major": 2,
       "version_minor": 0,
       "model_id": "d0f45ff52ed041bda23aac699371d9f4"
      }
     },
     "metadata": {}
    },
    {
     "output_type": "display_data",
     "data": {
      "text/plain": [
       "VBox(children=(HBox(children=(ToggleButtons(description='Stat. level: ', layout=Layout(width='200px'), options…"
      ],
      "application/vnd.jupyter.widget-view+json": {
       "version_major": 2,
       "version_minor": 0,
       "model_id": "569f41430042408b9f6366430c2599b4"
      }
     },
     "metadata": {}
    },
    {
     "output_type": "display_data",
     "data": {
      "text/plain": [
       "Output()"
      ],
      "application/vnd.jupyter.widget-view+json": {
       "version_major": 2,
       "version_minor": 0,
       "model_id": "fc155ec235f848e3830afe537b6748de"
      }
     },
     "metadata": {}
    }
   ],
   "metadata": {}
  }
 ],
 "metadata": {
  "interpreter": {
   "hash": "218d5642bc0583968b6c6b601cfdbf2fa09241a2a38caa05f0c62e5e64ed56d9"
  },
  "kernelspec": {
   "name": "python3",
   "display_name": "Python 3.8.8 64-bit ('acoustics': venv)"
  },
  "language_info": {
   "codemirror_mode": {
    "name": "ipython",
    "version": 3
   },
   "file_extension": ".py",
   "mimetype": "text/x-python",
   "name": "python",
   "nbconvert_exporter": "python",
   "pygments_lexer": "ipython3",
   "version": "3.8.8"
  }
 },
 "nbformat": 4,
 "nbformat_minor": 2
}