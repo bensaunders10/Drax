{
 "cells": [
  {
   "cell_type": "code",
   "execution_count": 1,
   "source": [
    "import pandas as pd\r\n",
    "from ipywidgets import interactive\r\n",
    "import ipywidgets as widgets\r\n",
    "import matplotlib.pyplot as plt\r\n",
    "from matplotlib.dates import DateFormatter, HourLocator\r\n",
    "\r\n",
    "d = \"Data//\"\r\n",
    "flis = [\"LT1\", \"LT2\", \"LT3\", \"LT4\", \"LT5\", \"LT6\", \"LT7\", \"LT8\"]\r\n",
    "llist = ['Load', 'Unit 1', 'Unit 2', 'Unit 3', 'Unit 4']\r\n",
    "load = pd.read_excel(d+\"Load.xlsx\")\r\n",
    "load['Time'] = pd.to_datetime(load['Time'].astype(str))\r\n",
    "weather = pd.read_excel(d+\"Weather.xlsx\")\r\n",
    "weather['Time'] = pd.to_datetime(weather['Time'].astype(str))\r\n",
    "wdir = [\"N\",\"NNE\",\"NE\",\"ENE\",\"E\",\"ESE\",\"SE\",\"SSE\",\"S\",\"SSW\",\"SW\",\"WSW\",\"W\",\"WNW\",\"NW\",\"NNW\",\"---\"]\r\n",
    "lt = [[] for i in range(8)]\r\n",
    "ltdc = [[] for i in range(8)]\r\n",
    "dca, dcb = '07:00', '04:00'\r\n",
    "lcrit = 1\r\n",
    "\r\n",
    "for i, j in enumerate(flis):\r\n",
    "    lt[i] = pd.read_excel(d+flis[i]+\".xlsx\", sheet_name=\"L90(LN4)\")\r\n",
    "    lt[i]['Start Time'] = pd.to_datetime(lt[i]['Start Time'].astype(str))\r\n",
    "    lt[i] = pd.merge_asof(lt[i],load,left_on=\"Start Time\", right_on=\"Time\")\r\n",
    "    lt[i] = lt[i].drop(labels=['Time'],axis=1)\r\n",
    "    lt[i] = pd.merge_asof(lt[i],weather,left_on=\"Start Time\", right_on=\"Time\")\r\n",
    "    lt[i] = lt[i].drop(labels=['Time'],axis=1)\r\n",
    "    lt[i] = lt[i].set_index('Start Time')\r\n",
    "    lt[i] = lt[i].tail(lt[i].shape[0] - 24) # removing first 6 hours from tail\r\n",
    "    lt[i] = lt[i].head(lt[i].shape[0] - 24) # removing first 6 hours from head\r\n",
    "\r\n",
    "%matplotlib widget\r\n",
    "fig, ax1 = plt.subplots(1, 1, figsize=(8,4))\r\n",
    "def plothist(n, d, c, l, w):\r\n",
    "    ax1.clear()\r\n",
    "    n = int(n-1)\r\n",
    "    bins = range(15,70)\r\n",
    "    if d:\r\n",
    "        t, st, et  = 'Night Time','23:00', '07:00'\r\n",
    "    else:\r\n",
    "        t, st, et = 'Day Time', '07:00', '23:00'\r\n",
    "    ltall = lt[n].between_time(st, et) #filtering results for day and night\r\n",
    "    ltall = ltall[ltall[\"Rain\"]<0.2]\r\n",
    "    ltall = ltall[ltall[\"Speed\"]<=5]\r\n",
    "    ltall = ltall[ltall[\"Dir\"].isin(w)]\r\n",
    "    ltdcall = ltall.between_time(dca, dcb) #filtering for dawn chorus\r\n",
    "    lton, ltoff = ltall[ltall[l]>=lcrit], ltall[ltall[l]<lcrit] #filtering results with and without drax power\r\n",
    "    ltdcon,ltdcoff = ltdcall[ltdcall[l]>=lcrit],ltdcall[ltdcall[l]<lcrit] #filtering dawn chorus results with and without drax power\r\n",
    "    if c:\r\n",
    "        t2 = ' without dawn chorus'\r\n",
    "        ax1.hist(ltdcoff['Main'],bins=bins,density=1,alpha=0.7)\r\n",
    "        ax1.hist(ltdcon['Main'],bins=bins,density=1,alpha=0.7)\r\n",
    "    else:\r\n",
    "        t2 = ''\r\n",
    "        ax1.hist(ltoff['Main'],bins=bins,density=1,alpha=0.7)\r\n",
    "        ax1.hist(lton['Main'],bins=bins,density=1,alpha=0.7)\r\n",
    "    plt.title(t+' at LT'+str(n+1)+t2)\r\n",
    "    ax1.legend(['Load <'+str(lcrit), 'Load >='+str(lcrit)])\r\n",
    "    fig.show()\r\n",
    "box_layout = widgets.Layout(display='inline-flex',flex_flow='column',align_items='center')\r\n",
    "ss = widgets.Select(options=llist,description='Load value: ',disabled=False)\r\n",
    "aw = widgets.Select(options=list(range(1,9)),description='LT: ',disabled=False)\r\n",
    "bw = widgets.ToggleButton(value=False,description='Day / Night',disabled=False)\r\n",
    "cw = widgets.Checkbox(value=False,description='Filter dawn Chorus',disabled=False)\r\n",
    "wd = widgets.SelectMultiple(options=wdir,value=[wdir[0]],description='wind dir', disabled=False)\r\n",
    "ui = widgets.VBox([widgets.HBox([aw, ss, wd]),widgets.HBox([bw, cw])],layout=box_layout)\r\n",
    "out = widgets.interactive_output(plothist, {'n': aw, 'd': bw, 'c': cw, 'l':ss,'w':wd})\r\n",
    "display(ui,out)"
   ],
   "outputs": [
    {
     "output_type": "display_data",
     "data": {
      "text/plain": [
       "Canvas(toolbar=Toolbar(toolitems=[('Home', 'Reset original view', 'home', 'home'), ('Back', 'Back to previous …"
      ],
      "application/vnd.jupyter.widget-view+json": {
       "version_major": 2,
       "version_minor": 0,
       "model_id": "cf949d9d68a04a398a1c2cd0951e011c"
      }
     },
     "metadata": {}
    },
    {
     "output_type": "display_data",
     "data": {
      "text/plain": [
       "VBox(children=(HBox(children=(Select(description='LT: ', options=(1, 2, 3, 4, 5, 6, 7, 8), value=1), Select(de…"
      ],
      "application/vnd.jupyter.widget-view+json": {
       "version_major": 2,
       "version_minor": 0,
       "model_id": "cb14675df1c24072ae15e542663e5795"
      }
     },
     "metadata": {}
    },
    {
     "output_type": "display_data",
     "data": {
      "text/plain": [
       "Output()"
      ],
      "application/vnd.jupyter.widget-view+json": {
       "version_major": 2,
       "version_minor": 0,
       "model_id": "c6b2f1a544e3414196cbaf3919ca4d2d"
      }
     },
     "metadata": {}
    }
   ],
   "metadata": {}
  }
 ],
 "metadata": {
  "interpreter": {
   "hash": "218d5642bc0583968b6c6b601cfdbf2fa09241a2a38caa05f0c62e5e64ed56d9"
  },
  "kernelspec": {
   "name": "python3",
   "display_name": "Python 3.8.8 64-bit ('acoustics': venv)"
  },
  "language_info": {
   "codemirror_mode": {
    "name": "ipython",
    "version": 3
   },
   "file_extension": ".py",
   "mimetype": "text/x-python",
   "name": "python",
   "nbconvert_exporter": "python",
   "pygments_lexer": "ipython3",
   "version": "3.8.8"
  }
 },
 "nbformat": 4,
 "nbformat_minor": 2
}