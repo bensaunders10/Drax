{
 "cells": [
  {
   "cell_type": "code",
   "execution_count": 1,
   "metadata": {},
   "outputs": [
    {
     "data": {
      "application/vnd.jupyter.widget-view+json": {
       "model_id": "201646d7fabf42d9aa58ecee2c4a5446",
       "version_major": 2,
       "version_minor": 0
      },
      "text/plain": [
       "Canvas(toolbar=Toolbar(toolitems=[('Home', 'Reset original view', 'home', 'home'), ('Back', 'Back to previous …"
      ]
     },
     "metadata": {},
     "output_type": "display_data"
    },
    {
     "data": {
      "application/vnd.jupyter.widget-view+json": {
       "model_id": "885f65aff3804ed49e0913365ee28302",
       "version_major": 2,
       "version_minor": 0
      },
      "text/plain": [
       "HBox(children=(Output(),), layout=Layout(margin='0px 0px 0px 90px'))"
      ]
     },
     "metadata": {},
     "output_type": "display_data"
    },
    {
     "data": {
      "application/vnd.jupyter.widget-view+json": {
       "model_id": "a4393725c9c64cb198f687f9c38c5136",
       "version_major": 2,
       "version_minor": 0
      },
      "text/plain": [
       "VBox(children=(HBox(children=(ToggleButtons(description='Stat. level: ', layout=Layout(width='250px'), options…"
      ]
     },
     "metadata": {},
     "output_type": "display_data"
    },
    {
     "data": {
      "application/vnd.jupyter.widget-view+json": {
       "model_id": "2ee81add500b4f048113f3f145db1bea",
       "version_major": 2,
       "version_minor": 0
      },
      "text/plain": [
       "Output()"
      ]
     },
     "metadata": {},
     "output_type": "display_data"
    }
   ],
   "source": [
    "import pandas as pd\n",
    "from ipywidgets import interactive\n",
    "import ipywidgets as widgets\n",
    "import matplotlib.pyplot as plt\n",
    "from matplotlib.dates import DateFormatter, HourLocator\n",
    "from IPython.display import HTML\n",
    "\n",
    "d = \"Data//\"\n",
    "flis = [\"LT1\", \"LT2\", \"LT3\", \"LT4\", \"LT5\", \"LT6\", \"LT7\", \"LT8\"]\n",
    "sheet = [\"Leq\",\"L90(LN4)\"]\n",
    "llist = ['None','Load','Unit 1', 'Unit 2', 'Unit 3', 'Unit 4']\n",
    "load = pd.read_excel(d+\"Load.xlsx\")\n",
    "load['Time'] = pd.to_datetime(load['Time'].astype(str))\n",
    "weather = pd.read_excel(d+\"Weather.xlsx\")\n",
    "weather['Time'] = pd.to_datetime(weather['Time'].astype(str))\n",
    "wdir = [\"N\",\"NNE\",\"NE\",\"ENE\",\"E\",\"ESE\",\"SE\",\"SSE\",\"S\",\"SSW\",\"SW\",\"WSW\",\"W\",\"WNW\",\"NW\",\"NNW\",\"---\"]\n",
    "lt = [[[] for i in range(2)] for j in range(8)]\n",
    "dca, dcb = '07:00', '04:00'\n",
    "lcrit = 1\n",
    "\n",
    "for i, j in enumerate(flis):\n",
    "    for k,l in enumerate(sheet):\n",
    "        lt[i][k] = pd.read_excel(d+flis[i]+\".xlsx\", sheet_name=l)\n",
    "        lt[i][k]['Start Time'] = pd.to_datetime(lt[i][k]['Start Time'].astype(str))\n",
    "        lt[i][k] = pd.merge_asof(lt[i][k],load,left_on=\"Start Time\", right_on=\"Time\")\n",
    "        lt[i][k] = lt[i][k].drop(labels=['Time'],axis=1)\n",
    "        lt[i][k] = pd.merge_asof(lt[i][k],weather,left_on=\"Start Time\", right_on=\"Time\")\n",
    "        lt[i][k] = lt[i][k].drop(labels=['Time'],axis=1)\n",
    "        lt[i][k] = lt[i][k].set_index('Start Time')\n",
    "        lt[i][k] = lt[i][k].tail(lt[i][k].shape[0] - 24) # removing first 6 hours from tail\n",
    "        lt[i][k] = lt[i][k].head(lt[i][k].shape[0] - 24) # removing first 6 hours from head\n",
    "\n",
    "%matplotlib widget\n",
    "def table(n, lw, d, c, l, w):\n",
    "    n = int(n-1)\n",
    "    if lw == 'Leq':\n",
    "        lwv = 0\n",
    "        ax1.set_xlabel('L$_{EQ}$ dBA')\n",
    "    else:\n",
    "        lwv = 1\n",
    "        ax1.set_xlabel('L$_{90}$ dBA')\n",
    "    if d == 'Night':\n",
    "        st, et  = '23:00', '07:00'\n",
    "    else:\n",
    "        st, et = '07:00', '23:00'\n",
    "    ltall = lt[n][lwv].between_time(st, et) #filtering results for day and night\n",
    "    ltall = ltall[ltall[\"Rain\"]<0.2]\n",
    "    ltall = ltall[ltall[\"Speed\"]<=5]\n",
    "    ltall = ltall[ltall[\"Dir\"].isin(w)]\n",
    "    ltdcall = ltall.between_time(dca, dcb) #filtering for dawn chorus\n",
    "    if l == 'None':\n",
    "        if c:\n",
    "            lton_av,lton_min,lton_max,ltoff_av,ltoff_min,ltoff_max = 0,0,0,0,0,0\n",
    "            ltall_av,ltall_min,ltall_max = ltdcall['Main'].mean(),ltdcall['Main'].min(),ltdcall['Main'].max()\n",
    "        else:\n",
    "            lton_av,lton_min,lton_max,ltoff_av,ltoff_min,ltoff_max = 0,0,0,0,0,0\n",
    "            ltall_av,ltall_min,ltall_max = ltall['Main'].mean(),ltall['Main'].min(),ltall['Main'].max()\n",
    "    else:\n",
    "        lton, ltoff = ltall[ltall[l]>=lcrit], ltall[ltall[l]<lcrit] #filtering results with and without drax power\n",
    "        ltdcon,ltdcoff = ltdcall[ltdcall[l]>=lcrit],ltdcall[ltdcall[l]<lcrit] #filtering dawn chorus results with and without drax power\n",
    "        if c:\n",
    "            lton_av,lton_min,lton_max = ltdcon['Main'].mean(),ltdcon['Main'].min(),ltdcon['Main'].max()\n",
    "            ltoff_av,ltoff_min,ltoff_max = ltdcoff['Main'].mean(),ltdcoff['Main'].min(),ltdcoff['Main'].max()\n",
    "            ltall_av,ltall_min,ltall_max = ltdcall['Main'].mean(),ltdcall['Main'].min(),ltdcall['Main'].max()\n",
    "        else:\n",
    "            lton_av,lton_min,lton_max = lton['Main'].mean(),lton['Main'].min(),lton['Main'].max()\n",
    "            ltoff_av,ltoff_min,ltoff_max = ltoff['Main'].mean(),ltoff['Main'].min(),ltoff['Main'].max()\n",
    "            ltall_av,ltall_min,ltall_max = ltall['Main'].mean(),ltall['Main'].min(),ltall['Main'].max()\n",
    "    id1 = ['All data', 'Plant On','Plant Off']\n",
    "    av1 = [ltall_av,lton_av, ltoff_av]\n",
    "    min1 = [ltall_min, lton_min, ltoff_min]\n",
    "    max1 = [ltall_max, lton_max, ltoff_max]\n",
    "    df = {'ID':id1,'Arithmetic Mean (dBA)':av1,'Min (dBA)':min1,'Max (dBA)':max1}\n",
    "    table1 = pd.DataFrame(df).round(1)\n",
    "    display(HTML(table1.to_html(index=False,notebook=True)))\n",
    "\n",
    "fig, [ax1, ax2] = plt.subplots(1, 2, figsize=(10,4))\n",
    "def plothist(n, lw, d, c, l, w):\n",
    "    ax1.clear(), ax2.clear()\n",
    "    n = int(n-1)\n",
    "    bins = range(15,80)\n",
    "    if lw == 'Leq':\n",
    "        lwv = 0\n",
    "        ax1.set_xlabel('L$_{EQ}$ dBA')\n",
    "        ax2.set_xlabel('L$_{EQ}$ dBA')\n",
    "    else:\n",
    "        lwv = 1\n",
    "        ax1.set_xlabel('L$_{90}$ dBA')\n",
    "        ax2.set_xlabel('L$_{90}$ dBA')\n",
    "    if d == 'Night':\n",
    "        st, et  = '23:00', '07:00'\n",
    "    else:\n",
    "        st, et = '07:00', '23:00'\n",
    "    ltall = lt[n][lwv].between_time(st, et) #filtering results for day and night\n",
    "    ltall = ltall[ltall[\"Rain\"]<0.2]\n",
    "    ltall = ltall[ltall[\"Speed\"]<=5]\n",
    "    ltall = ltall[ltall[\"Dir\"].isin(w)]\n",
    "    ltdcall = ltall.between_time(dca, dcb) #filtering for dawn chorus\n",
    "    if l == 'None':\n",
    "        if c:\n",
    "            ax1.hist(ltdcall['Main'],bins=bins,alpha=0.7)\n",
    "            ax2.hist(ltdcall['Main'],bins=bins,alpha=0.7,density=True, histtype='step', cumulative=-1)\n",
    "        else:\n",
    "            ax1.hist(ltall['Main'],bins=bins,alpha=0.7)\n",
    "            ax2.hist(ltall['Main'],bins=bins,alpha=0.7,density=True, histtype='step', cumulative=-1)\n",
    "    else:\n",
    "        lton, ltoff = ltall[ltall[l]>=lcrit], ltall[ltall[l]<lcrit] #filtering results with and without drax power\n",
    "        ltdcon,ltdcoff = ltdcall[ltdcall[l]>=lcrit],ltdcall[ltdcall[l]<lcrit] #filtering dawn chorus results with and without drax power\n",
    "        if c:\n",
    "            ax1.hist(ltdcoff['Main'],bins=bins,alpha=0.7)\n",
    "            ax1.hist(ltdcon['Main'],bins=bins,alpha=0.7)\n",
    "            ax2.hist(ltdcoff['Main'],bins=bins,alpha=0.7,density=True, histtype='step', cumulative=-1)\n",
    "            ax2.hist(ltdcon['Main'],bins=bins,alpha=0.7,density=True, histtype='step', cumulative=-1)\n",
    "        else:\n",
    "            ax1.hist(ltoff['Main'],bins=bins,alpha=0.7)\n",
    "            ax1.hist(lton['Main'],bins=bins,alpha=0.7)\n",
    "            ax2.hist(ltoff['Main'],bins=bins,alpha=0.7,density=True, histtype='step', cumulative=-1)\n",
    "            ax2.hist(lton['Main'],bins=bins,alpha=0.7,density=True, histtype='step', cumulative=-1)\n",
    "        ax1.legend(['Load <'+str(lcrit), 'Load >='+str(lcrit)])\n",
    "    ax1.set_ylabel('Samples over survey period')\n",
    "    ax2.set_ylabel('Probability (exceedance)')\n",
    "    fig.show()\n",
    "\n",
    "box_layout = widgets.Layout(display='flex',flex_flow='column',align_items='stretch')\n",
    "box_layout2 = widgets.Layout(display='inline-flex',flex_flow='row',align_items='stretch',margin='0px 0px 10px 45px')\n",
    "ss = widgets.Select(options=llist,description='Load value: ',disabled=False)\n",
    "aw = widgets.Select(options=list(range(1,9)),description='LT: ',disabled=False)\n",
    "lw = widgets.ToggleButtons(options=['Leq','L90'],description='Stat. level: ',disabled=False, layout=dict(width='250px'))\n",
    "bw = widgets.ToggleButtons(options=['Day','Night'],description='Period: ',disabled=False, layout=dict(width='250px'))\n",
    "cw = widgets.Checkbox(value=False,description='Filter dawn Chorus',disabled=False)\n",
    "wd = widgets.SelectMultiple(options=wdir,value=wdir,description='wind dir', disabled=False)\n",
    "out = widgets.interactive_output(plothist, {'n': aw, 'lw': lw, 'd': bw, 'c': cw, 'l':ss,'w':wd})\n",
    "outt = widgets.interactive_output(table, {'n': aw, 'lw': lw, 'd': bw, 'c': cw, 'l':ss,'w':wd})\n",
    "ui = widgets.VBox([widgets.HBox([lw, bw, cw],layout=box_layout2),widgets.HBox([aw, ss, wd])],layout=box_layout)\n",
    "ui2 = widgets.HBox([outt],layout=widgets.Layout(margin='0px 0px 0px 90px'))\n",
    "display(ui2,ui,out)"
   ]
  }
 ],
 "metadata": {
  "interpreter": {
   "hash": "218d5642bc0583968b6c6b601cfdbf2fa09241a2a38caa05f0c62e5e64ed56d9"
  },
  "kernelspec": {
   "display_name": "Python 3.8.8 64-bit ('acoustics': venv)",
   "name": "python3"
  },
  "language_info": {
   "codemirror_mode": {
    "name": "ipython",
    "version": 3
   },
   "file_extension": ".py",
   "mimetype": "text/x-python",
   "name": "python",
   "nbconvert_exporter": "python",
   "pygments_lexer": "ipython3",
   "version": "3.8.8"
  }
 },
 "nbformat": 4,
 "nbformat_minor": 2
}
